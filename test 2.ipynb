{
 "cells": [
  {
   "cell_type": "code",
   "execution_count": 2,
   "id": "3ec13797",
   "metadata": {},
   "outputs": [],
   "source": [
    "import numpy as np\n",
    "import pandas as pd"
   ]
  },
  {
   "cell_type": "code",
   "execution_count": 10,
   "id": "85868c85",
   "metadata": {},
   "outputs": [],
   "source": [
    "#considered columns are----cust_id,product,quantity,revenue\n",
    "cust_orders = pd.read_csv(r\"C:\\Users\\ZainA\\OneDrive\\Desktop\\CustomerID.csv\")  #data is stored in dataframe"
   ]
  },
  {
   "cell_type": "code",
   "execution_count": 11,
   "id": "2241e3b6",
   "metadata": {},
   "outputs": [
    {
     "data": {
      "text/html": [
       "<div>\n",
       "<style scoped>\n",
       "    .dataframe tbody tr th:only-of-type {\n",
       "        vertical-align: middle;\n",
       "    }\n",
       "\n",
       "    .dataframe tbody tr th {\n",
       "        vertical-align: top;\n",
       "    }\n",
       "\n",
       "    .dataframe thead th {\n",
       "        text-align: right;\n",
       "    }\n",
       "</style>\n",
       "<table border=\"1\" class=\"dataframe\">\n",
       "  <thead>\n",
       "    <tr style=\"text-align: right;\">\n",
       "      <th></th>\n",
       "      <th>Cust_id</th>\n",
       "      <th>Product</th>\n",
       "      <th>Quantity_ordered</th>\n",
       "      <th>Revenue</th>\n",
       "    </tr>\n",
       "  </thead>\n",
       "  <tbody>\n",
       "    <tr>\n",
       "      <th>0</th>\n",
       "      <td>1</td>\n",
       "      <td>103</td>\n",
       "      <td>3</td>\n",
       "      <td>5958</td>\n",
       "    </tr>\n",
       "    <tr>\n",
       "      <th>1</th>\n",
       "      <td>7</td>\n",
       "      <td>103</td>\n",
       "      <td>7</td>\n",
       "      <td>5199</td>\n",
       "    </tr>\n",
       "    <tr>\n",
       "      <th>2</th>\n",
       "      <td>4</td>\n",
       "      <td>103</td>\n",
       "      <td>1</td>\n",
       "      <td>1676</td>\n",
       "    </tr>\n",
       "    <tr>\n",
       "      <th>3</th>\n",
       "      <td>4</td>\n",
       "      <td>105</td>\n",
       "      <td>6</td>\n",
       "      <td>5963</td>\n",
       "    </tr>\n",
       "    <tr>\n",
       "      <th>4</th>\n",
       "      <td>4</td>\n",
       "      <td>106</td>\n",
       "      <td>3</td>\n",
       "      <td>7000</td>\n",
       "    </tr>\n",
       "    <tr>\n",
       "      <th>...</th>\n",
       "      <td>...</td>\n",
       "      <td>...</td>\n",
       "      <td>...</td>\n",
       "      <td>...</td>\n",
       "    </tr>\n",
       "    <tr>\n",
       "      <th>94</th>\n",
       "      <td>6</td>\n",
       "      <td>107</td>\n",
       "      <td>7</td>\n",
       "      <td>2517</td>\n",
       "    </tr>\n",
       "    <tr>\n",
       "      <th>95</th>\n",
       "      <td>1</td>\n",
       "      <td>101</td>\n",
       "      <td>7</td>\n",
       "      <td>5235</td>\n",
       "    </tr>\n",
       "    <tr>\n",
       "      <th>96</th>\n",
       "      <td>4</td>\n",
       "      <td>104</td>\n",
       "      <td>6</td>\n",
       "      <td>4452</td>\n",
       "    </tr>\n",
       "    <tr>\n",
       "      <th>97</th>\n",
       "      <td>1</td>\n",
       "      <td>104</td>\n",
       "      <td>9</td>\n",
       "      <td>1488</td>\n",
       "    </tr>\n",
       "    <tr>\n",
       "      <th>98</th>\n",
       "      <td>4</td>\n",
       "      <td>101</td>\n",
       "      <td>10</td>\n",
       "      <td>5375</td>\n",
       "    </tr>\n",
       "  </tbody>\n",
       "</table>\n",
       "<p>99 rows × 4 columns</p>\n",
       "</div>"
      ],
      "text/plain": [
       "    Cust_id  Product  Quantity_ordered  Revenue\n",
       "0         1      103                 3     5958\n",
       "1         7      103                 7     5199\n",
       "2         4      103                 1     1676\n",
       "3         4      105                 6     5963\n",
       "4         4      106                 3     7000\n",
       "..      ...      ...               ...      ...\n",
       "94        6      107                 7     2517\n",
       "95        1      101                 7     5235\n",
       "96        4      104                 6     4452\n",
       "97        1      104                 9     1488\n",
       "98        4      101                10     5375\n",
       "\n",
       "[99 rows x 4 columns]"
      ]
     },
     "execution_count": 11,
     "metadata": {},
     "output_type": "execute_result"
    }
   ],
   "source": [
    "cust_orders"
   ]
  },
  {
   "cell_type": "code",
   "execution_count": 12,
   "id": "6a7bf7fb",
   "metadata": {},
   "outputs": [],
   "source": [
    "x = pd.DataFrame(pd.pivot_table(data = cust_orders,index='Product', values = 'Quantity_ordered', aggfunc = 'sum').sort_values(by = 'Quantity_ordered', ascending=False))"
   ]
  },
  {
   "cell_type": "code",
   "execution_count": 13,
   "id": "03b6ce90",
   "metadata": {},
   "outputs": [],
   "source": [
    "y = {i:j for i,j in zip(x.index.values, x['Quantity_ordered'])}"
   ]
  },
  {
   "cell_type": "code",
   "execution_count": 14,
   "id": "29f023b2",
   "metadata": {},
   "outputs": [],
   "source": [
    "v = list(y.keys())"
   ]
  },
  {
   "cell_type": "code",
   "execution_count": 15,
   "id": "a71f9a58",
   "metadata": {},
   "outputs": [
    {
     "name": "stdout",
     "output_type": "stream",
     "text": [
      "product: 107 Quantity: 109\n"
     ]
    }
   ],
   "source": [
    "print('product:', v[0],'Quantity:',y[v[0]])"
   ]
  },
  {
   "cell_type": "code",
   "execution_count": 16,
   "id": "af6aa9f6",
   "metadata": {},
   "outputs": [],
   "source": [
    "z = pd.DataFrame(pd.pivot_table(data = cust_orders,index='Product', values = 'Revenue', aggfunc = 'mean').sort_values(by = 'Revenue', ascending=False))"
   ]
  },
  {
   "cell_type": "code",
   "execution_count": 17,
   "id": "0b646399",
   "metadata": {},
   "outputs": [],
   "source": [
    "z = pd.DataFrame(z)"
   ]
  },
  {
   "cell_type": "code",
   "execution_count": 18,
   "id": "3a2bd63e",
   "metadata": {},
   "outputs": [],
   "source": [
    "t = pd.DataFrame(pd.pivot_table(data = cust_orders,index='Product', values = 'Revenue', aggfunc = 'sum').sort_values(by = 'Revenue', ascending=False))"
   ]
  },
  {
   "cell_type": "code",
   "execution_count": 19,
   "id": "16b0352c",
   "metadata": {},
   "outputs": [],
   "source": [
    "d = {i:j for i,j in zip(v,t['Revenue'])}"
   ]
  },
  {
   "cell_type": "code",
   "execution_count": 20,
   "id": "d69729a1",
   "metadata": {},
   "outputs": [
    {
     "name": "stdout",
     "output_type": "stream",
     "text": [
      "top 5 products are: [107, 105, 103, 104, 106] their avg. revenue: [77663, 70448, 58810, 58040, 53322]\n"
     ]
    }
   ],
   "source": [
    "print('top 5 products are:' ,v[0:5],'their avg. revenue:', list(d.values())[0:5])"
   ]
  },
  {
   "cell_type": "code",
   "execution_count": 21,
   "id": "07e1cb3e",
   "metadata": {},
   "outputs": [],
   "source": [
    "u = pd.pivot_table(data=cust_orders ,index= 'Product',values = ['Quantity_ordered','Revenue'], aggfunc = 'sum')"
   ]
  },
  {
   "cell_type": "code",
   "execution_count": 22,
   "id": "3314d15a",
   "metadata": {},
   "outputs": [],
   "source": [
    "u = pd.DataFrame(u)"
   ]
  },
  {
   "cell_type": "code",
   "execution_count": 23,
   "id": "cb315e68",
   "metadata": {},
   "outputs": [],
   "source": [
    "u.to_csv('product_summary.csv')"
   ]
  },
  {
   "cell_type": "code",
   "execution_count": null,
   "id": "f51b2668",
   "metadata": {},
   "outputs": [],
   "source": []
  }
 ],
 "metadata": {
  "kernelspec": {
   "display_name": "Python 3 (ipykernel)",
   "language": "python",
   "name": "python3"
  },
  "language_info": {
   "codemirror_mode": {
    "name": "ipython",
    "version": 3
   },
   "file_extension": ".py",
   "mimetype": "text/x-python",
   "name": "python",
   "nbconvert_exporter": "python",
   "pygments_lexer": "ipython3",
   "version": "3.9.13"
  },
  "vp": {
   "vp_config_version": "1.0.0",
   "vp_menu_width": 273,
   "vp_note_display": false,
   "vp_note_width": 0,
   "vp_position": {
    "width": 278
   },
   "vp_section_display": false,
   "vp_signature": "VisualPython"
  }
 },
 "nbformat": 4,
 "nbformat_minor": 5
}
